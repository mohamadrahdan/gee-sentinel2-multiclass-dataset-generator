{
 "cells": [
  {
   "cell_type": "code",
   "execution_count": null,
   "id": "08e8987c",
   "metadata": {},
   "outputs": [],
   "source": [
    "from google.colab import drive\n",
    "drive.mount('/content/drive')\n",
    "import os\n",
    "os.environ[\"DATA_ROOT\"] = \"/content/drive/MyDrive/hazard-data\""
   ]
  },
  {
   "cell_type": "code",
   "execution_count": null,
   "id": "9cc60a4b",
   "metadata": {},
   "outputs": [],
   "source": [
    "import sys\n",
    "sys.path.append(\"..\")\n",
    "\n",
    "from src.utils import load_config, get_output_dir, ensure_dir\n",
    "from src.gee_pipeline import init_ee, get_s2_collection, load_boundary_fc, load_classes, make_class_mask\n",
    "from src.tiling import generate_tiles\n",
    "from src.export import get_first_tile_url\n",
    "\n",
    "cfg = load_config(\"../configs/config.yaml\")\n",
    "out_dir = get_output_dir(cfg)\n",
    "ensure_dir(out_dir)"
   ]
  }
 ],
 "metadata": {
  "kernelspec": {
   "display_name": "Python 3",
   "language": "python",
   "name": "python3"
  },
  "language_info": {
   "codemirror_mode": {
    "name": "ipython",
    "version": 3
   },
   "file_extension": ".py",
   "mimetype": "text/x-python",
   "name": "python",
   "nbconvert_exporter": "python",
   "pygments_lexer": "ipython3",
   "version": "3.13.3"
  }
 },
 "nbformat": 4,
 "nbformat_minor": 5
}
