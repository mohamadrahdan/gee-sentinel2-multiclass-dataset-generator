{
 "cells": [
  {
   "cell_type": "code",
   "execution_count": null,
   "id": "08e8987c",
   "metadata": {},
   "outputs": [],
   "source": [
    "from google.colab import drive\n",
    "drive.mount('/content/drive')\n",
    "import os\n",
    "os.environ[\"DATA_ROOT\"] = \"/content/drive/MyDrive/hazard-data\""
   ]
  },
  {
   "cell_type": "code",
   "execution_count": null,
   "id": "9cc60a4b",
   "metadata": {},
   "outputs": [],
   "source": [
    "import sys\n",
    "sys.path.append(\"..\")\n",
    "\n",
    "from src.utils import load_config, get_output_dir, ensure_dir\n",
    "from src.gee_pipeline import init_ee, get_s2_collection, load_boundary_fc, load_classes, make_class_mask\n",
    "from src.tiling import generate_tiles\n",
    "from src.export import get_first_tile_url\n",
    "\n",
    "cfg = load_config(\"../configs/config.yaml\")\n",
    "out_dir = get_output_dir(cfg)\n",
    "ensure_dir(out_dir)"
   ]
  },
  {
   "cell_type": "code",
   "execution_count": null,
   "id": "16d125d3",
   "metadata": {},
   "outputs": [],
   "source": [
    "init_ee(auth=True)"
   ]
  },
  {
   "cell_type": "code",
   "execution_count": null,
   "id": "2e3538ee",
   "metadata": {},
   "outputs": [],
   "source": [
    "boundary_fc = load_boundary_fc(cfg[\"boundary_path\"])\n",
    "classes_list = load_classes(cfg)\n",
    "aoi_geom = boundary_fc.geometry()"
   ]
  },
  {
   "cell_type": "code",
   "execution_count": null,
   "id": "4aaf46d9",
   "metadata": {},
   "outputs": [],
   "source": [
    "coll = get_s2_collection(aoi_geom, cfg[\"start_date\"], cfg[\"end_date\"], cfg[\"cloud_max\"])\n",
    "mosaic = coll.select(cfg[\"bands\"]).mosaic()"
   ]
  },
  {
   "cell_type": "code",
   "execution_count": null,
   "id": "c2edcf2c",
   "metadata": {},
   "outputs": [],
   "source": [
    "label_mask = make_class_mask(classes_list, boundary_fc, scale=10)"
   ]
  },
  {
   "cell_type": "code",
   "execution_count": null,
   "id": "27c97a6f",
   "metadata": {},
   "outputs": [],
   "source": [
    "tiles_fc = generate_tiles(coll, aoi_geom, tile_size=cfg[\"tile_size\"], bands=cfg[\"bands\"], scale=10)\n",
    "print(\"Tiles:\", tiles_fc.size().getInfo())"
   ]
  },
  {
   "cell_type": "code",
   "execution_count": null,
   "id": "6a9f255c",
   "metadata": {},
   "outputs": [],
   "source": [
    "img_url = get_first_tile_url(mosaic, tiles_fc, bands=cfg[\"bands\"], scale=10, fmt=\"PNG\")\n",
    "print(\"Image tile URL:\\n\", img_url)\n",
    "\n",
    "from ee import Feature\n",
    "first_tile_geom = Feature(tiles_fc.first()).geometry()\n",
    "mask_url = label_mask.clip(first_tile_geom).getDownloadURL({\"scale\": 10, \"region\": first_tile_geom, \"format\": \"GEO_TIFF\"})\n",
    "print(\"Mask tile URL:\\n\", mask_url)"
   ]
  }
 ],
 "metadata": {
  "kernelspec": {
   "display_name": "Python 3",
   "language": "python",
   "name": "python3"
  },
  "language_info": {
   "codemirror_mode": {
    "name": "ipython",
    "version": 3
   },
   "file_extension": ".py",
   "mimetype": "text/x-python",
   "name": "python",
   "nbconvert_exporter": "python",
   "pygments_lexer": "ipython3",
   "version": "3.13.3"
  }
 },
 "nbformat": 4,
 "nbformat_minor": 5
}
